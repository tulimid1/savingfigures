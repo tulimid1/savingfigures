{
 "cells": [
  {
   "cell_type": "markdown",
   "metadata": {},
   "source": [
    "# Saving files (regular and gif)"
   ]
  },
  {
   "cell_type": "markdown",
   "metadata": {},
   "source": [
    "This notebook shows how to use the `auto_save` and `writeGif` function. "
   ]
  },
  {
   "cell_type": "code",
   "execution_count": 1,
   "metadata": {},
   "outputs": [],
   "source": [
    "# pip install savingfigures"
   ]
  },
  {
   "cell_type": "code",
   "execution_count": 2,
   "metadata": {},
   "outputs": [],
   "source": [
    "import numpy as np \n",
    "import matplotlib.pyplot as plt\n",
    "import savingfigures as sf"
   ]
  },
  {
   "cell_type": "code",
   "execution_count": 3,
   "metadata": {},
   "outputs": [
    {
     "data": {
      "image/png": "[encoded data removed]",
      "text/plain": [
       "<Figure size 432x288 with 1 Axes>"
      ]
     },
     "metadata": {
      "needs_background": "light"
     },
     "output_type": "display_data"
    }
   ],
   "source": [
    "# create some figure \n",
    "x = np.linspace(0, 2*np.pi, 100)\n",
    "\n",
    "fig1 = plt.figure()\n",
    "plt.plot(x, np.sin(x), lw=3)\n",
    "plt.show()"
   ]
  },
  {
   "cell_type": "code",
   "execution_count": 4,
   "metadata": {},
   "outputs": [],
   "source": [
    "sf.auto_save(fig1, 'testFig1') # no specifications\n",
    "sf.auto_save(fig1, 'testFig1', custom_folder='level1', folder_level=1) # working directory level \n",
    "sf.auto_save(fig1, 'testFig1', custom_folder='level2', folder_level=2) # figures folder level \n",
    "sf.auto_save(fig1, 'testFig1', custom_folder='level3', folder_level=3) # date directory "
   ]
  },
  {
   "cell_type": "code",
   "execution_count": 6,
   "metadata": {},
   "outputs": [
    {
     "data": {
      "text/plain": [
       "'/Users/duncan/Documents/GitHub/savingfigures'"
      ]
     },
     "execution_count": 6,
     "metadata": {},
     "output_type": "execute_result"
    }
   ],
   "source": [
    "os.getcwd()"
   ]
  },
  {
   "cell_type": "code",
   "execution_count": 7,
   "metadata": {},
   "outputs": [],
   "source": [
    "x_end = np.linspace(2*np.pi, 4*np.pi, 100) # make look bigger \n",
    "fnamesSIN = [] # storing file names for gif\n",
    "fnamesCOS = []\n",
    "\n",
    "for xE in x_end:\n",
    "    x = np.linspace(0, xE, 100)\n",
    "\n",
    "    # make a figure (sine)\n",
    "    fig1 = plt.figure()\n",
    "    plt.plot(x, np.sin(x), lw=3)\n",
    "\n",
    "    # make a figure (cosine)\n",
    "    fig2 = plt.figure()\n",
    "    plt.plot(x, np.cos(x), lw=3)\n",
    "\n",
    "    # iteratively define filename \n",
    "    filename1 = f'{xE}SIN.png'\n",
    "    filename2 = f'{xE}COS.png'\n",
    "    fnamesSIN.append(filename1) # store file names \n",
    "    fnamesCOS.append(filename2)\n",
    "    # save \n",
    "    sf.auto_save(fig1, filename1) \n",
    "    sf.auto_save(fig1, filename1, custom_folder='level1', folder_level=1)\n",
    "    sf.auto_save(fig1, filename1, custom_folder='level2', folder_level=2)\n",
    "    sf.auto_save(fig1, filename1, custom_folder='level3', folder_level=3)\n",
    "    sf.auto_save(fig2, filename2) \n",
    "\n",
    "# write figure files to a gif\n",
    "sf.writeGif('testGif1', fnamesSIN) # no specifications \n",
    "sf.writeGif('testGif2', fnamesCOS, fps=5) # slower animation (5 frames per second)\n",
    "sf.writeGif('testGif1', fnamesSIN, custom_folder='level1', folder_level=1) # working directory level \n",
    "sf.writeGif('testGif1', fnamesSIN, custom_folder='level2', folder_level=2) # figures folder level \n",
    "sf.writeGif('testGif1', fnamesSIN, custom_folder='level3', folder_level=3) # date directory "
   ]
  }
 ],
 "metadata": {
  "interpreter": {
   "hash": "7acdbb3aff7158c09429e6c9b96f485cecd437364040e3b3eee49ff737423024"
  },
  "kernelspec": {
   "display_name": "Python 3.8.10 64-bit ('base': conda)",
   "name": "python3"
  },
  "language_info": {
   "codemirror_mode": {
    "name": "ipython",
    "version": 3
   },
   "file_extension": ".py",
   "mimetype": "text/x-python",
   "name": "python",
   "nbconvert_exporter": "python",
   "pygments_lexer": "ipython3",
   "version": "3.8.10"
  },
  "orig_nbformat": 4
 },
 "nbformat": 4,
 "nbformat_minor": 2
}
